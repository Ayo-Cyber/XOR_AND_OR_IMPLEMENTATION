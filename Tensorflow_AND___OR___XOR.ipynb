{
  "nbformat": 4,
  "nbformat_minor": 0,
  "metadata": {
    "colab": {
      "provenance": []
    },
    "kernelspec": {
      "name": "python3",
      "display_name": "Python 3"
    },
    "language_info": {
      "name": "python"
    }
  },
  "cells": [
    {
      "cell_type": "code",
      "execution_count": 1,
      "metadata": {
        "id": "9BTOrkONrxZ2"
      },
      "outputs": [],
      "source": [
        "import numpy as np\n",
        "import tensorflow as tf\n",
        "from tensorflow.keras.models import Sequential\n",
        "from tensorflow.keras.layers import Dense\n",
        "from tensorflow.keras.optimizers import Adam\n",
        "\n",
        "\n",
        "X = np.array([[0, 0],\n",
        "              [0, 1],\n",
        "              [1, 0],\n",
        "              [1, 1]])\n",
        "\n",
        "# Correct outputs for each gate\n",
        "y_and = np.array([[0], [0], [0], [1]])\n",
        "y_or  = np.array([[0], [1], [1], [1]])\n",
        "y_xor = np.array([[0], [1], [1], [0]])\n",
        "\n",
        "# Function to create and train a simple neural network\n",
        "def create_and_train_nn(input_dim, output_dim, X, y, epochs=1000):\n",
        "    model = Sequential()\n",
        "    model.add(Dense(1, input_dim=input_dim, activation='sigmoid'))  # Cause for here AND and OR are linear seperable : For AND, OR (1 layer)\n",
        "    model.compile(optimizer=Adam(learning_rate=0.5), loss='binary_crossentropy', metrics=['accuracy'])\n",
        "\n",
        "    model.fit(X, y, epochs=epochs, verbose=0)\n",
        "    return model"
      ]
    },
    {
      "cell_type": "code",
      "source": [
        "# AND gate\n",
        "print(\"=== AND ===\")\n",
        "print(\"Inputs:\\n\", X)\n",
        "print(\"Correct AND outputs:\\n\", y_and.flatten())\n",
        "model_and = create_and_train_nn(2, 1, X, y_and, epochs=100)\n",
        "pred_and = model_and.predict(X).round().astype(int)\n",
        "print(\"Predicted AND:\\n\", pred_and.flatten(), \"\\n\")"
      ],
      "metadata": {
        "colab": {
          "base_uri": "https://localhost:8080/"
        },
        "id": "L0m72_EKsLv2",
        "outputId": "d7e97e00-49b8-4cf8-b382-af1ac5c37bd3"
      },
      "execution_count": 2,
      "outputs": [
        {
          "output_type": "stream",
          "name": "stdout",
          "text": [
            "=== AND ===\n",
            "Inputs:\n",
            " [[0 0]\n",
            " [0 1]\n",
            " [1 0]\n",
            " [1 1]]\n",
            "Correct AND outputs:\n",
            " [0 0 0 1]\n"
          ]
        },
        {
          "output_type": "stream",
          "name": "stderr",
          "text": [
            "/usr/local/lib/python3.11/dist-packages/keras/src/layers/core/dense.py:87: UserWarning: Do not pass an `input_shape`/`input_dim` argument to a layer. When using Sequential models, prefer using an `Input(shape)` object as the first layer in the model instead.\n",
            "  super().__init__(activity_regularizer=activity_regularizer, **kwargs)\n"
          ]
        },
        {
          "output_type": "stream",
          "name": "stdout",
          "text": [
            "\u001b[1m1/1\u001b[0m \u001b[32m━━━━━━━━━━━━━━━━━━━━\u001b[0m\u001b[37m\u001b[0m \u001b[1m0s\u001b[0m 57ms/step\n",
            "Predicted AND:\n",
            " [0 0 0 1] \n",
            "\n"
          ]
        }
      ]
    },
    {
      "cell_type": "code",
      "source": [
        "# OR gate\n",
        "print(\"=== OR ===\")\n",
        "print(\"Inputs:\\n\", X)\n",
        "print(\"Correct OR outputs:\\n\", y_or.flatten())\n",
        "model_or = create_and_train_nn(2, 1, X, y_or, epochs=100)\n",
        "pred_or = model_or.predict(X).round().astype(int)\n",
        "print(\"Predicted OR:\\n\", pred_or.flatten(), \"\\n\")"
      ],
      "metadata": {
        "colab": {
          "base_uri": "https://localhost:8080/"
        },
        "id": "rF2227W0sKcg",
        "outputId": "024de221-fc70-4614-ec0a-48b342ee559f"
      },
      "execution_count": 3,
      "outputs": [
        {
          "output_type": "stream",
          "name": "stdout",
          "text": [
            "=== OR ===\n",
            "Inputs:\n",
            " [[0 0]\n",
            " [0 1]\n",
            " [1 0]\n",
            " [1 1]]\n",
            "Correct OR outputs:\n",
            " [0 1 1 1]\n",
            "\u001b[1m1/1\u001b[0m \u001b[32m━━━━━━━━━━━━━━━━━━━━\u001b[0m\u001b[37m\u001b[0m \u001b[1m0s\u001b[0m 57ms/step\n",
            "Predicted OR:\n",
            " [0 1 1 1] \n",
            "\n"
          ]
        }
      ]
    },
    {
      "cell_type": "code",
      "source": [
        "# XOR gate (requires a hidden layer for non-linearity) - (I am thinking of using another activation function in that hidden layer sha..)\n",
        "print(\"=== XOR ===\")\n",
        "print(\"Inputs:\\n\", X)\n",
        "print(\"Correct XOR outputs:\\n\", y_xor.flatten())\n",
        "model_xor = Sequential()\n",
        "model_xor.add(Dense(2, input_dim=2, activation='sigmoid'))  # Cause I am using XOR here so : Hidden layer with 2 units\n",
        "model_xor.add(Dense(1, activation='sigmoid'))  # Output layer\n",
        "model_xor.compile(optimizer=Adam(learning_rate=0.5), loss='binary_crossentropy', metrics=['accuracy'])\n",
        "\n",
        "model_xor.fit(X, y_xor, epochs=100, verbose=0)\n",
        "pred_xor = model_xor.predict(X).round().astype(int)\n",
        "print(\"Predicted XOR:\\n\", pred_xor.flatten())"
      ],
      "metadata": {
        "colab": {
          "base_uri": "https://localhost:8080/"
        },
        "id": "PqIDue7QsJIa",
        "outputId": "c8b639fd-fae0-4556-d110-ab0ed4236e2b"
      },
      "execution_count": 4,
      "outputs": [
        {
          "output_type": "stream",
          "name": "stdout",
          "text": [
            "=== XOR ===\n",
            "Inputs:\n",
            " [[0 0]\n",
            " [0 1]\n",
            " [1 0]\n",
            " [1 1]]\n",
            "Correct XOR outputs:\n",
            " [0 1 1 0]\n",
            "\u001b[1m1/1\u001b[0m \u001b[32m━━━━━━━━━━━━━━━━━━━━\u001b[0m\u001b[37m\u001b[0m \u001b[1m0s\u001b[0m 79ms/step\n",
            "Predicted XOR:\n",
            " [0 1 0 0]\n"
          ]
        }
      ]
    },
    {
      "cell_type": "code",
      "source": [],
      "metadata": {
        "id": "IOpR6pGvtqLX"
      },
      "execution_count": null,
      "outputs": []
    }
  ]
}